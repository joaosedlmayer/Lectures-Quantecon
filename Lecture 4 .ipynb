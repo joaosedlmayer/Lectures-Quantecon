{
 "cells": [
  {
   "cell_type": "markdown",
   "id": "fb549ac2",
   "metadata": {},
   "source": [
    "# Lecture 4 - Python Essentials\n",
    "\n",
    "\n",
    "\n",
    "## Data types\n",
    "\n",
    "### Valores Booleanos\n",
    "São um tipo de data que podem ser `True` ou `False`.\n"
   ]
  },
  {
   "cell_type": "code",
   "execution_count": 1,
   "id": "63aa251f",
   "metadata": {},
   "outputs": [
    {
     "data": {
      "text/plain": [
       "True"
      ]
     },
     "execution_count": 1,
     "metadata": {},
     "output_type": "execute_result"
    }
   ],
   "source": [
    "x= True\n",
    "x"
   ]
  },
  {
   "cell_type": "code",
   "execution_count": 2,
   "id": "77dbeaad",
   "metadata": {},
   "outputs": [
    {
     "data": {
      "text/plain": [
       "bool"
      ]
     },
     "execution_count": 2,
     "metadata": {},
     "output_type": "execute_result"
    }
   ],
   "source": [
    "type(x)"
   ]
  },
  {
   "cell_type": "markdown",
   "id": "ee10e734",
   "metadata": {},
   "source": [
    "Podemos utilizar como um interpretador de dados:"
   ]
  },
  {
   "cell_type": "code",
   "execution_count": 3,
   "id": "5cfb79a3",
   "metadata": {},
   "outputs": [
    {
     "data": {
      "text/plain": [
       "False"
      ]
     },
     "execution_count": 3,
     "metadata": {},
     "output_type": "execute_result"
    }
   ],
   "source": [
    "y = 100<10\n",
    "y"
   ]
  },
  {
   "cell_type": "code",
   "execution_count": 4,
   "id": "4d8955bc",
   "metadata": {},
   "outputs": [
    {
     "data": {
      "text/plain": [
       "bool"
      ]
     },
     "execution_count": 4,
     "metadata": {},
     "output_type": "execute_result"
    }
   ],
   "source": [
    "type(y)"
   ]
  },
  {
   "cell_type": "markdown",
   "id": "ba61e4b1",
   "metadata": {},
   "source": [
    "Em expressões, podemos utilizar os valores booleanos para fazermos operações:"
   ]
  },
  {
   "cell_type": "code",
   "execution_count": 5,
   "id": "362e68e1",
   "metadata": {},
   "outputs": [
    {
     "data": {
      "text/plain": [
       "1"
      ]
     },
     "execution_count": 5,
     "metadata": {},
     "output_type": "execute_result"
    }
   ],
   "source": [
    "x+y"
   ]
  },
  {
   "cell_type": "markdown",
   "id": "de8ba03c",
   "metadata": {},
   "source": [
    "Nesse caso, `True` vale `1` e `False` 0."
   ]
  },
  {
   "cell_type": "code",
   "execution_count": 6,
   "id": "525e8df0",
   "metadata": {},
   "outputs": [
    {
     "data": {
      "text/plain": [
       "0"
      ]
     },
     "execution_count": 6,
     "metadata": {},
     "output_type": "execute_result"
    }
   ],
   "source": [
    "x*y"
   ]
  },
  {
   "cell_type": "code",
   "execution_count": 7,
   "id": "eba69948",
   "metadata": {},
   "outputs": [
    {
     "data": {
      "text/plain": [
       "2"
      ]
     },
     "execution_count": 7,
     "metadata": {},
     "output_type": "execute_result"
    }
   ],
   "source": [
    "True + True"
   ]
  },
  {
   "cell_type": "code",
   "execution_count": 8,
   "id": "838a58d5",
   "metadata": {},
   "outputs": [
    {
     "data": {
      "text/plain": [
       "3"
      ]
     },
     "execution_count": 8,
     "metadata": {},
     "output_type": "execute_result"
    }
   ],
   "source": [
    "bools =[True,True,False,True] #Criando uma Lista de Valores Booleanos\n",
    "\n",
    "sum(bools)"
   ]
  },
  {
   "cell_type": "markdown",
   "id": "e98d771f",
   "metadata": {},
   "source": [
    "### Numeric Types\n",
    "\n",
    "Já vimos nas outras *Lectures* outras formas de classes numéricas: `integer`e `float` (1 e 1.5, por exemplo).\n",
    "\n",
    "Números complexos são outra forma de classe numérica no Python:"
   ]
  },
  {
   "cell_type": "code",
   "execution_count": 10,
   "id": "d5455bc1",
   "metadata": {},
   "outputs": [
    {
     "name": "stdout",
     "output_type": "stream",
     "text": [
      "5j\n"
     ]
    },
    {
     "data": {
      "text/plain": [
       "complex"
      ]
     },
     "execution_count": 10,
     "metadata": {},
     "output_type": "execute_result"
    }
   ],
   "source": [
    "x = complex(1,2)\n",
    "y= complex(2,1)\n",
    "print(x*y)\n",
    "\n",
    "type(x)"
   ]
  },
  {
   "cell_type": "markdown",
   "id": "cd95f6b9",
   "metadata": {},
   "source": [
    "Nesse caso, estamos computando a parte real 1 e imaginária 2 no caso do x. Em y, é o contrário. `print(x*y)` estamos utilizando uma multiplicação desses números complexos.\n",
    "\n",
    "### Containers\n",
    "\n",
    "Uma outra forma de criar uma lista, porém não sendo possível mudar (*immutable*, uma vez que criado não pode ser alterado), temos os `tuples`:\n",
    "\n"
   ]
  },
  {
   "cell_type": "code",
   "execution_count": 12,
   "id": "fdf0a228",
   "metadata": {},
   "outputs": [
    {
     "data": {
      "text/plain": [
       "('a', 'b')"
      ]
     },
     "execution_count": 12,
     "metadata": {},
     "output_type": "execute_result"
    }
   ],
   "source": [
    "x =('a','b')\n",
    "x"
   ]
  },
  {
   "cell_type": "code",
   "execution_count": 14,
   "id": "a09b1af3",
   "metadata": {},
   "outputs": [
    {
     "data": {
      "text/plain": [
       "('a', 'b')"
      ]
     },
     "execution_count": 14,
     "metadata": {},
     "output_type": "execute_result"
    }
   ],
   "source": [
    "x='a','b'\n",
    "x"
   ]
  },
  {
   "cell_type": "code",
   "execution_count": 15,
   "id": "5878cbc7",
   "metadata": {},
   "outputs": [
    {
     "data": {
      "text/plain": [
       "tuple"
      ]
     },
     "execution_count": 15,
     "metadata": {},
     "output_type": "execute_result"
    }
   ],
   "source": [
    "type(x)"
   ]
  },
  {
   "cell_type": "markdown",
   "id": "aad5778c",
   "metadata": {},
   "source": [
    "Por sua vez, as listas são mutáveis:\n"
   ]
  },
  {
   "cell_type": "code",
   "execution_count": 16,
   "id": "e57a1496",
   "metadata": {},
   "outputs": [
    {
     "data": {
      "text/plain": [
       "1"
      ]
     },
     "execution_count": 16,
     "metadata": {},
     "output_type": "execute_result"
    }
   ],
   "source": [
    "x=[1,3]\n",
    "x[0]"
   ]
  },
  {
   "cell_type": "code",
   "execution_count": 17,
   "id": "64c59578",
   "metadata": {},
   "outputs": [
    {
     "data": {
      "text/plain": [
       "[1000, 3]"
      ]
     },
     "execution_count": 17,
     "metadata": {},
     "output_type": "execute_result"
    }
   ],
   "source": [
    "x[0]=1000\n",
    "x"
   ]
  },
  {
   "cell_type": "markdown",
   "id": "55beaf61",
   "metadata": {},
   "source": [
    "Se tentarmos fazer o mesmo com *tuples*,"
   ]
  },
  {
   "cell_type": "code",
   "execution_count": 18,
   "id": "c04167e1",
   "metadata": {},
   "outputs": [
    {
     "ename": "TypeError",
     "evalue": "'tuple' object does not support item assignment",
     "output_type": "error",
     "traceback": [
      "\u001b[1;31m---------------------------------------------------------------------------\u001b[0m",
      "\u001b[1;31mTypeError\u001b[0m                                 Traceback (most recent call last)",
      "Cell \u001b[1;32mIn[18], line 3\u001b[0m\n\u001b[0;32m      1\u001b[0m x\u001b[38;5;241m=\u001b[39m \u001b[38;5;124m'\u001b[39m\u001b[38;5;124m1\u001b[39m\u001b[38;5;124m'\u001b[39m,\u001b[38;5;124m'\u001b[39m\u001b[38;5;124m3\u001b[39m\u001b[38;5;124m'\u001b[39m\n\u001b[1;32m----> 3\u001b[0m x[\u001b[38;5;241m0\u001b[39m]\u001b[38;5;241m=\u001b[39m\u001b[38;5;241m1000\u001b[39m\n\u001b[0;32m      4\u001b[0m x\n",
      "\u001b[1;31mTypeError\u001b[0m: 'tuple' object does not support item assignment"
     ]
    }
   ],
   "source": [
    "x= '1','3'\n",
    "\n",
    "x[0]=1000\n",
    "x"
   ]
  },
  {
   "cell_type": "markdown",
   "id": "73ee0c49",
   "metadata": {},
   "source": [
    "Podemos despacotar as *tuples* também. Por exemplo:"
   ]
  },
  {
   "cell_type": "code",
   "execution_count": 19,
   "id": "6d55615b",
   "metadata": {},
   "outputs": [
    {
     "data": {
      "text/plain": [
       "10"
      ]
     },
     "execution_count": 19,
     "metadata": {},
     "output_type": "execute_result"
    }
   ],
   "source": [
    "integers = (10,20,30)\n",
    "x,y,z = integers\n",
    "x"
   ]
  },
  {
   "cell_type": "code",
   "execution_count": 20,
   "id": "66033e96",
   "metadata": {},
   "outputs": [
    {
     "data": {
      "text/plain": [
       "20"
      ]
     },
     "execution_count": 20,
     "metadata": {},
     "output_type": "execute_result"
    }
   ],
   "source": [
    "y"
   ]
  },
  {
   "cell_type": "code",
   "execution_count": 21,
   "id": "156a4a9b",
   "metadata": {},
   "outputs": [
    {
     "data": {
      "text/plain": [
       "30"
      ]
     },
     "execution_count": 21,
     "metadata": {},
     "output_type": "execute_result"
    }
   ],
   "source": [
    "z"
   ]
  },
  {
   "cell_type": "markdown",
   "id": "ea32c57d",
   "metadata": {},
   "source": [
    "#### Slice Notation\n",
    "Podemos acessar vários elementos de uma determinada lista, *tuple* ou *string*.\n",
    "\n"
   ]
  },
  {
   "cell_type": "code",
   "execution_count": 22,
   "id": "f4363d58",
   "metadata": {},
   "outputs": [
    {
     "data": {
      "text/plain": [
       "['b', 'c', 'd', 'e']"
      ]
     },
     "execution_count": 22,
     "metadata": {},
     "output_type": "execute_result"
    }
   ],
   "source": [
    "a  =[\"a\",\"b\",\"c\",\"d\",\"e\"]\n",
    "a[1:]"
   ]
  },
  {
   "cell_type": "code",
   "execution_count": 23,
   "id": "430c46aa",
   "metadata": {},
   "outputs": [
    {
     "data": {
      "text/plain": [
       "['b', 'c']"
      ]
     },
     "execution_count": 23,
     "metadata": {},
     "output_type": "execute_result"
    }
   ],
   "source": [
    "a[1:3]"
   ]
  },
  {
   "cell_type": "markdown",
   "id": "1a687eee",
   "metadata": {},
   "source": [
    "Podemos pegar os dois últimos elementos da lista:"
   ]
  },
  {
   "cell_type": "code",
   "execution_count": 24,
   "id": "2efb1977",
   "metadata": {},
   "outputs": [
    {
     "data": {
      "text/plain": [
       "['d', 'e']"
      ]
     },
     "execution_count": 24,
     "metadata": {},
     "output_type": "execute_result"
    }
   ],
   "source": [
    "a[-2:]"
   ]
  },
  {
   "cell_type": "markdown",
   "id": "7492f281",
   "metadata": {},
   "source": [
    "Podemos mudar o formato `[start:end:step]`"
   ]
  },
  {
   "cell_type": "code",
   "execution_count": 25,
   "id": "6b9fa480",
   "metadata": {},
   "outputs": [
    {
     "data": {
      "text/plain": [
       "['a', 'c', 'e']"
      ]
     },
     "execution_count": 25,
     "metadata": {},
     "output_type": "execute_result"
    }
   ],
   "source": [
    "a[::2]"
   ]
  },
  {
   "cell_type": "markdown",
   "id": "c492e1a8",
   "metadata": {},
   "source": [
    "Podemos fazer a ordem contrária:"
   ]
  },
  {
   "cell_type": "code",
   "execution_count": 26,
   "id": "076a503b",
   "metadata": {},
   "outputs": [
    {
     "data": {
      "text/plain": [
       "['d', 'c', 'b', 'a']"
      ]
     },
     "execution_count": 26,
     "metadata": {},
     "output_type": "execute_result"
    }
   ],
   "source": [
    "a[-2::-1] # anda de costas do segundo último elemento para o primeiro"
   ]
  },
  {
   "cell_type": "markdown",
   "id": "cd32608c",
   "metadata": {},
   "source": [
    "O mesmo é válido para *tuples* ou *strings* "
   ]
  },
  {
   "cell_type": "code",
   "execution_count": 27,
   "id": "57e2b6f8",
   "metadata": {},
   "outputs": [
    {
     "data": {
      "text/plain": [
       "'bar'"
      ]
     },
     "execution_count": 27,
     "metadata": {},
     "output_type": "execute_result"
    }
   ],
   "source": [
    "s ='foobar'\n",
    "s[-3:] #selecionar os últimos 3 elementos"
   ]
  },
  {
   "cell_type": "markdown",
   "id": "82cf52f4",
   "metadata": {},
   "source": [
    "### Sets e Dicionários\n",
    "\n",
    "Dicionários são como listas com exceção que os itens são chamados ao invés de numerados:"
   ]
  },
  {
   "cell_type": "code",
   "execution_count": 29,
   "id": "b8d24832",
   "metadata": {},
   "outputs": [
    {
     "data": {
      "text/plain": [
       "dict"
      ]
     },
     "execution_count": 29,
     "metadata": {},
     "output_type": "execute_result"
    }
   ],
   "source": [
    "d = {'name' : 'Frodo', 'age':33}\n",
    "type(d)"
   ]
  },
  {
   "cell_type": "code",
   "execution_count": 30,
   "id": "3bbe74fb",
   "metadata": {},
   "outputs": [
    {
     "data": {
      "text/plain": [
       "33"
      ]
     },
     "execution_count": 30,
     "metadata": {},
     "output_type": "execute_result"
    }
   ],
   "source": [
    "d['age']"
   ]
  },
  {
   "cell_type": "code",
   "execution_count": 31,
   "id": "23d4a141",
   "metadata": {},
   "outputs": [
    {
     "data": {
      "text/plain": [
       "'Frodo'"
      ]
     },
     "execution_count": 31,
     "metadata": {},
     "output_type": "execute_result"
    }
   ],
   "source": [
    "d['name']"
   ]
  },
  {
   "cell_type": "markdown",
   "id": "cab947d8",
   "metadata": {},
   "source": [
    "Os nomes `name` e `age` sã o chamado *keys*, e os objetos `Frodo`e `33`são os `values`. Já os `sets`são coleções sem ordenamento e sem duplicatas e permitem as operações normalmente utilizadas.\n"
   ]
  },
  {
   "cell_type": "code",
   "execution_count": 32,
   "id": "b62f5465",
   "metadata": {},
   "outputs": [],
   "source": [
    "s1 = { 'a','b'}"
   ]
  },
  {
   "cell_type": "code",
   "execution_count": 33,
   "id": "04a8775b",
   "metadata": {},
   "outputs": [
    {
     "data": {
      "text/plain": [
       "set"
      ]
     },
     "execution_count": 33,
     "metadata": {},
     "output_type": "execute_result"
    }
   ],
   "source": [
    "type(s1)"
   ]
  },
  {
   "cell_type": "code",
   "execution_count": 34,
   "id": "50f49c75",
   "metadata": {},
   "outputs": [
    {
     "data": {
      "text/plain": [
       "False"
      ]
     },
     "execution_count": 34,
     "metadata": {},
     "output_type": "execute_result"
    }
   ],
   "source": [
    "s2 ={'b','c'}\n",
    "\n",
    "s1.issubset(s2)"
   ]
  },
  {
   "cell_type": "markdown",
   "id": "d2cdafc0",
   "metadata": {},
   "source": [
    "A função `set()` cria conjuntos de sequências:"
   ]
  },
  {
   "cell_type": "code",
   "execution_count": 35,
   "id": "5dc93aa9",
   "metadata": {},
   "outputs": [
    {
     "data": {
      "text/plain": [
       "{'bar', 'foo'}"
      ]
     },
     "execution_count": 35,
     "metadata": {},
     "output_type": "execute_result"
    }
   ],
   "source": [
    "s3 = set(('foo','bar','foo'))\n",
    "s3"
   ]
  },
  {
   "cell_type": "markdown",
   "id": "9e2bb1f7",
   "metadata": {},
   "source": [
    "## Iterando\n",
    "Uma das maiores forças do Python é a sua forma de iteração via o *loop* `for`. Por exemplo, vamos escrever uma lista de cidades nos EUA e sua população:\n",
    "\n",
    "###  Looping over Different Objects\n",
    "Diversos objetos no Python são iteráveis, da medida que eles podem ser loopados. Por exemplo, criando uma txt das cidades:\n"
   ]
  },
  {
   "cell_type": "code",
   "execution_count": 36,
   "id": "d322d36c",
   "metadata": {},
   "outputs": [
    {
     "name": "stdout",
     "output_type": "stream",
     "text": [
      "Writing us_cities.txt\n"
     ]
    }
   ],
   "source": [
    "%%writefile us_cities.txt\n",
    "new york: 8244910\n",
    "los angeles: 3819702\n",
    "chicago: 2707120\n",
    "houston: 2145146\n",
    "philadelphia: 1536471\n",
    "phoenix: 1469471\n",
    "san antonio: 1359758\n",
    "san diego: 1326179\n",
    "dallas: 1223229"
   ]
  },
  {
   "cell_type": "markdown",
   "id": "795491c9",
   "metadata": {},
   "source": [
    "Nesse caso `%%writefile%%` é uma Ipython cell magic.Uma outra forma é a seguinte, deixando as informações mais legível e adiconando nomes e virgulas para computar os milhares :\n"
   ]
  },
  {
   "cell_type": "code",
   "execution_count": 38,
   "id": "64248785",
   "metadata": {},
   "outputs": [
    {
     "name": "stdout",
     "output_type": "stream",
     "text": [
      "New York       8,244,910\n",
      "Los Angeles    3,819,702\n",
      "Chicago        2,707,120\n",
      "Houston        2,145,146\n",
      "Philadelphia   1,536,471\n",
      "Phoenix        1,469,471\n",
      "San Antonio    1,359,758\n",
      "San Diego      1,326,179\n",
      "Dallas         1,223,229\n"
     ]
    }
   ],
   "source": [
    "data_file = open('us_cities.txt', 'r')\n",
    "for line in data_file:\n",
    "    city, population = line.split(':')         # Tuple unpacking\n",
    "    city = city.title()                        # Capitalize city names\n",
    "    population = f'{int(population):,}'        # Add commas to numbers\n",
    "    print(city.ljust(15) + population)\n",
    "data_file.close()"
   ]
  },
  {
   "cell_type": "markdown",
   "id": "3535dc43",
   "metadata": {},
   "source": [
    "Aqui, `format()`é um método de string utilizado para inserir variáveis em strings.\n",
    "A parte interessante deste programa para nós está na linha 2, que mostra que:\n",
    "\n",
    "1. O objeto de arquivo de dados data_file é iterável, no sentido de que pode ser colocado à direita do `in` dentro de um loop for.\n",
    "\n",
    "2. A iteração passa por cada linha no arquivo.\n",
    "\n",
    "Isso leva à sintaxe limpa e conveniente mostrada em nosso programa.\n",
    "\n"
   ]
  },
  {
   "cell_type": "markdown",
   "id": "d39cd06d",
   "metadata": {},
   "source": [
    "É possível fazer *looping* sem ter que usar índices explícitos. Por exemplo:"
   ]
  },
  {
   "cell_type": "code",
   "execution_count": 39,
   "id": "591a4d54",
   "metadata": {},
   "outputs": [
    {
     "name": "stdout",
     "output_type": "stream",
     "text": [
      "1\n",
      "4\n",
      "9\n"
     ]
    }
   ],
   "source": [
    "x_values = [1,2,3]\n",
    "\n",
    "for x in x_values:\n",
    "    print(x*x)"
   ]
  },
  {
   "cell_type": "code",
   "execution_count": 40,
   "id": "1ec9f7fe",
   "metadata": {},
   "outputs": [
    {
     "name": "stdout",
     "output_type": "stream",
     "text": [
      "1\n",
      "4\n",
      "9\n"
     ]
    }
   ],
   "source": [
    "for i in range(len(x_values)):\n",
    "    print(x_values[i]*x_values[i])"
   ]
  },
  {
   "cell_type": "markdown",
   "id": "d590d506",
   "metadata": {},
   "source": [
    "É possível também usar o comando `zip`para não ter que usar explitamente índices para *loopar* :\n"
   ]
  },
  {
   "cell_type": "code",
   "execution_count": 42,
   "id": "b5018ae6",
   "metadata": {},
   "outputs": [
    {
     "name": "stdout",
     "output_type": "stream",
     "text": [
      "The Capital of Japan is Tokyo\n",
      "The Capital of Korea is Seoul\n",
      "The Capital of China is Beijing\n"
     ]
    }
   ],
   "source": [
    "countries = ('Japan','Korea','China')\n",
    "cities =('Tokyo','Seoul','Beijing')\n",
    "for country, city in zip(countries,cities) :\n",
    "    print(f'The Capital of {country} is {city}')"
   ]
  },
  {
   "cell_type": "markdown",
   "id": "47befc5a",
   "metadata": {},
   "source": [
    "Note que:\n",
    "\n",
    "O `f` que aparece antes de uma string em Python indica que esta é uma f-string (format string). F-strings são uma forma de criar strings formatadas de maneira mais fácil e legível, especialmente quando você deseja incorporar valores de variáveis ou expressões em uma string. A principal vantagem das f-strings é que você pode inserir valores diretamente na string usando chaves `{}` e as variáveis ou expressões serão substituídas pelo seu valor real quando a string for criada.\n",
    "\n",
    "No exemplo:\n",
    "\n",
    "```python\n",
    "print(f'The capital of {country} is {city}')\n",
    "```\n",
    "\n",
    "O `f` na frente da string permite que você insira as variáveis `country` e `city` dentro da string, dentro das chaves `{}`. Quando essa linha é executada, o Python substituirá automaticamente `{country}` pelo valor da variável `country` e `{city}` pelo valor da variável `city`.\n",
    "\n"
   ]
  },
  {
   "cell_type": "markdown",
   "id": "4b0d507f",
   "metadata": {},
   "source": [
    "Podemos usar o `zip()`para criar dicionários também:"
   ]
  },
  {
   "cell_type": "code",
   "execution_count": 43,
   "id": "f2b3c1d1",
   "metadata": {},
   "outputs": [
    {
     "data": {
      "text/plain": [
       "{'João': 'A', 'Felipe': 'F'}"
      ]
     },
     "execution_count": 43,
     "metadata": {},
     "output_type": "execute_result"
    }
   ],
   "source": [
    "nomes= ['João','Felipe']\n",
    "notas = ['A','F']\n",
    "dict(zip(nomes,notas))"
   ]
  },
  {
   "cell_type": "markdown",
   "id": "63ea88f6",
   "metadata": {},
   "source": [
    "### List Comprehensions\n",
    "\n",
    "Podemos simplificar o código para gerar uma lsita de amostras aleatórias usando *list comprehension*, que são uma forma elegante de criar listas. Por exemplo:"
   ]
  },
  {
   "cell_type": "code",
   "execution_count": 44,
   "id": "d97e295d",
   "metadata": {},
   "outputs": [
    {
     "data": {
      "text/plain": [
       "['cachorros', 'gatos', 'aves']"
      ]
     },
     "execution_count": 44,
     "metadata": {},
     "output_type": "execute_result"
    }
   ],
   "source": [
    "animals = ['cachorro','gato','ave']\n",
    "plurals = [animal + 's' for animal in animals]\n",
    "plurals"
   ]
  },
  {
   "cell_type": "code",
   "execution_count": 45,
   "id": "4b9bbce3",
   "metadata": {},
   "outputs": [
    {
     "data": {
      "text/plain": [
       "range(0, 8)"
      ]
     },
     "execution_count": 45,
     "metadata": {},
     "output_type": "execute_result"
    }
   ],
   "source": [
    "range(8)"
   ]
  },
  {
   "cell_type": "code",
   "execution_count": 46,
   "id": "9f2b3ed0",
   "metadata": {},
   "outputs": [
    {
     "data": {
      "text/plain": [
       "[0, 2, 4, 6, 8, 10, 12, 14]"
      ]
     },
     "execution_count": 46,
     "metadata": {},
     "output_type": "execute_result"
    }
   ],
   "source": [
    "doubles = [2*x for x in range(8)]\n",
    "doubles"
   ]
  },
  {
   "cell_type": "markdown",
   "id": "9cbcf85c",
   "metadata": {},
   "source": [
    "## Comparasions and Logical Operators\n",
    "\n",
    "Podemos fazer as seguintes comparações:"
   ]
  },
  {
   "cell_type": "code",
   "execution_count": 1,
   "id": "aa45162a",
   "metadata": {},
   "outputs": [
    {
     "data": {
      "text/plain": [
       "True"
      ]
     },
     "execution_count": 1,
     "metadata": {},
     "output_type": "execute_result"
    }
   ],
   "source": [
    "x,y =1,2\n",
    "x<y"
   ]
  },
  {
   "cell_type": "code",
   "execution_count": 2,
   "id": "aeffdc19",
   "metadata": {},
   "outputs": [
    {
     "data": {
      "text/plain": [
       "False"
      ]
     },
     "execution_count": 2,
     "metadata": {},
     "output_type": "execute_result"
    }
   ],
   "source": [
    "x>y"
   ]
  },
  {
   "cell_type": "markdown",
   "id": "66bd3615",
   "metadata": {},
   "source": [
    "Podemos fazer desigualdades em cadeia:\n"
   ]
  },
  {
   "cell_type": "code",
   "execution_count": 3,
   "id": "8b3426e3",
   "metadata": {},
   "outputs": [
    {
     "data": {
      "text/plain": [
       "True"
      ]
     },
     "execution_count": 3,
     "metadata": {},
     "output_type": "execute_result"
    }
   ],
   "source": [
    "1<2<3"
   ]
  },
  {
   "cell_type": "code",
   "execution_count": 4,
   "id": "48600b4d",
   "metadata": {},
   "outputs": [
    {
     "data": {
      "text/plain": [
       "True"
      ]
     },
     "execution_count": 4,
     "metadata": {},
     "output_type": "execute_result"
    }
   ],
   "source": [
    "1<=2<=3"
   ]
  },
  {
   "cell_type": "markdown",
   "id": "ea58a198",
   "metadata": {},
   "source": [
    "Como vimos antes, podemos testar desigualdade usamos `==` \n"
   ]
  },
  {
   "cell_type": "code",
   "execution_count": 5,
   "id": "0799c7f9",
   "metadata": {},
   "outputs": [
    {
     "data": {
      "text/plain": [
       "False"
      ]
     },
     "execution_count": 5,
     "metadata": {},
     "output_type": "execute_result"
    }
   ],
   "source": [
    "x=1 #atribuindo\n",
    "x==2 #comparação"
   ]
  },
  {
   "cell_type": "markdown",
   "id": "7fc592a1",
   "metadata": {},
   "source": [
    "Para diferente $\\neq$ , usamos `!=`"
   ]
  },
  {
   "cell_type": "code",
   "execution_count": 6,
   "id": "fb7245c5",
   "metadata": {},
   "outputs": [
    {
     "data": {
      "text/plain": [
       "True"
      ]
     },
     "execution_count": 6,
     "metadata": {},
     "output_type": "execute_result"
    }
   ],
   "source": [
    "1 != 2"
   ]
  },
  {
   "cell_type": "markdown",
   "id": "938fb73c",
   "metadata": {},
   "source": [
    "Podemos testar essas condições para qualquer expressão:\n"
   ]
  },
  {
   "cell_type": "code",
   "execution_count": 7,
   "id": "c971ee6e",
   "metadata": {},
   "outputs": [
    {
     "data": {
      "text/plain": [
       "'yes'"
      ]
     },
     "execution_count": 7,
     "metadata": {},
     "output_type": "execute_result"
    }
   ],
   "source": [
    "x = 'yes' if 42 else 'no'\n",
    "x"
   ]
  },
  {
   "cell_type": "markdown",
   "id": "85f18898",
   "metadata": {},
   "source": [
    " Neste caso, a expressão dentro do if é 42, que é um valor numérico diferente de zero. De acordo com a regra explicada, qualquer valor que não seja zero, uma sequência vazia ou None é equivalente a True em um contexto booleano. Portanto, como 42 não é zero, a atribuição de x recebe o valor 'yes'."
   ]
  },
  {
   "cell_type": "code",
   "execution_count": 8,
   "id": "8153a0fe",
   "metadata": {},
   "outputs": [
    {
     "data": {
      "text/plain": [
       "'no'"
      ]
     },
     "execution_count": 8,
     "metadata": {},
     "output_type": "execute_result"
    }
   ],
   "source": [
    "x = 'yes' if [] else 'no'\n",
    "x"
   ]
  },
  {
   "cell_type": "markdown",
   "id": "037ca4a6",
   "metadata": {},
   "source": [
    "Neste caso, a expressão dentro do if é [], que é uma lista vazia. Como mencionado na regra, valores que são sequências vazias (como listas vazias, strings vazias, etc.) são equivalentes a False em um contexto booleano. Portanto, a atribuição de x recebe o valor 'no'."
   ]
  },
  {
   "cell_type": "markdown",
   "id": "7ddc83a9",
   "metadata": {},
   "source": [
    "### Combinando Expressões:\n",
    "Podemos combinar expressões usando `and`, `or` e `not`\n",
    "Que são basicamente os conectivos lógicos (conjunction, disjunction e denial): $\\wedge$ $\\vee$,$\\neg$."
   ]
  },
  {
   "cell_type": "code",
   "execution_count": 9,
   "id": "7b2a7522",
   "metadata": {},
   "outputs": [
    {
     "data": {
      "text/plain": [
       "True"
      ]
     },
     "execution_count": 9,
     "metadata": {},
     "output_type": "execute_result"
    }
   ],
   "source": [
    "1 < 2 and  'f' in 'foo'"
   ]
  },
  {
   "cell_type": "markdown",
   "id": "5ac5fbac",
   "metadata": {},
   "source": [
    "Isso é verdade visto que estamos colocando a conjunction de duas afirmações verdadeiras: 1 é menor que dois e f está em foo. Logo, ambos são verdade e 1 =1.\n"
   ]
  },
  {
   "cell_type": "code",
   "execution_count": 10,
   "id": "aec3536d",
   "metadata": {
    "scrolled": true
   },
   "outputs": [
    {
     "data": {
      "text/plain": [
       "False"
      ]
     },
     "execution_count": 10,
     "metadata": {},
     "output_type": "execute_result"
    }
   ],
   "source": [
    "1 < 2 and 'g' in 'foo'"
   ]
  },
  {
   "cell_type": "markdown",
   "id": "5acb2191",
   "metadata": {},
   "source": [
    "Mesma coisa, porém não é verdade visto que g não está em `foo`."
   ]
  },
  {
   "cell_type": "code",
   "execution_count": 11,
   "id": "cf7296d6",
   "metadata": {},
   "outputs": [
    {
     "data": {
      "text/plain": [
       "True"
      ]
     },
     "execution_count": 11,
     "metadata": {},
     "output_type": "execute_result"
    }
   ],
   "source": [
    "1<2 or 'g' in 'foo'"
   ]
  },
  {
   "cell_type": "markdown",
   "id": "5add31f3",
   "metadata": {},
   "source": [
    "Verdade pois 'or' é uma disjunção, ou seja, pelo menos uma delas é verdade. No caso a primeira é.\n"
   ]
  },
  {
   "cell_type": "code",
   "execution_count": 12,
   "id": "26fe56f2",
   "metadata": {},
   "outputs": [
    {
     "data": {
      "text/plain": [
       "False"
      ]
     },
     "execution_count": 12,
     "metadata": {},
     "output_type": "execute_result"
    }
   ],
   "source": [
    "not True\n"
   ]
  },
  {
   "cell_type": "markdown",
   "id": "e04cc74c",
   "metadata": {},
   "source": [
    "Isso é o equivalente ao $\\neg P$. Como P é verdade, a negação é falso."
   ]
  },
  {
   "cell_type": "code",
   "execution_count": 13,
   "id": "1d6026b0",
   "metadata": {},
   "outputs": [
    {
     "data": {
      "text/plain": [
       "True"
      ]
     },
     "execution_count": 13,
     "metadata": {},
     "output_type": "execute_result"
    }
   ],
   "source": [
    "not not True\n"
   ]
  },
  {
   "cell_type": "markdown",
   "id": "0da56943",
   "metadata": {},
   "source": [
    "Sabemos que $\\neg \\neg P \\to P $. "
   ]
  },
  {
   "cell_type": "markdown",
   "id": "9628d527",
   "metadata": {},
   "source": [
    "### Docstrings\n",
    "\n",
    "Python permite adicionar comentários a determinadas funções, módulos e classes. Por exemplo:\n"
   ]
  },
  {
   "cell_type": "code",
   "execution_count": 15,
   "id": "3c7b1dcb",
   "metadata": {},
   "outputs": [],
   "source": [
    "def f(x):\n",
    "    \"\"\"\n",
    "    Está função irá levar o argumento ao quadrado\n",
    "    \"\"\"\n",
    "    return x**2\n"
   ]
  },
  {
   "cell_type": "code",
   "execution_count": 17,
   "id": "9a8cab37",
   "metadata": {},
   "outputs": [],
   "source": [
    "f?"
   ]
  },
  {
   "cell_type": "markdown",
   "id": "6e427103",
   "metadata": {},
   "source": [
    "## Exercícios:\n",
    "\n",
    "Queremos criar um produto vetorial de duas matrizes:"
   ]
  },
  {
   "cell_type": "code",
   "execution_count": 19,
   "id": "e0abad1a",
   "metadata": {},
   "outputs": [
    {
     "name": "stdout",
     "output_type": "stream",
     "text": [
      "32\n"
     ]
    }
   ],
   "source": [
    "x = [1,2,3]\n",
    "y=[4,5,6]\n",
    "combinado = zip(x,y)\n",
    "produto_interno = sum(x*y for x,y in combinado)\n",
    "print(produto_interno)"
   ]
  },
  {
   "cell_type": "markdown",
   "id": "4520d68f",
   "metadata": {},
   "source": [
    "`zip(x, y)` combina os valores correspondentes das duas listas x_vals e y_vals em pares de tuplas. Por exemplo, (1, 3), (2, 5) e (3,6 ).\n",
    "\n",
    "A compreensão de lista (x * y for x, y in combined_values) multiplica os elementos correspondentes das tuplas e cria uma lista de produtos.\n",
    "\n",
    "sum() é usado para somar todos os produtos, resultando no produto interno das duas listas."
   ]
  },
  {
   "cell_type": "raw",
   "id": "4a2117cf",
   "metadata": {},
   "source": [
    "Queremos fazer, em uma linha, um código que irá contar o número de números de 0 até 99.\n"
   ]
  },
  {
   "cell_type": "code",
   "execution_count": 32,
   "id": "a5647fbd",
   "metadata": {},
   "outputs": [
    {
     "data": {
      "text/plain": [
       "range(0, 100)"
      ]
     },
     "execution_count": 32,
     "metadata": {},
     "output_type": "execute_result"
    }
   ],
   "source": [
    "range(100)"
   ]
  },
  {
   "cell_type": "code",
   "execution_count": 34,
   "id": "2581d93d",
   "metadata": {},
   "outputs": [
    {
     "name": "stdout",
     "output_type": "stream",
     "text": [
      "50\n"
     ]
    }
   ],
   "source": [
    "print(sum(1 for x in range(100) if x % 2 == 0))"
   ]
  },
  {
   "cell_type": "markdown",
   "id": "8d27aae2",
   "metadata": {},
   "source": [
    "Nesse exercício estamos somando 1 cada vez que estiver um número par. Um número par pode ser definido como se a divisão por 2 ser igual a 0. Dessa forma, o operador `%` irá nos dar o resto do quociente. Por sua vez, estamos utilizamos o if que irá nos dar 1 caso o resto do quociente for um por meio de uma função for, que irá delimitar o quanto que iremos somar e o *range*.\n",
    "\n",
    "###### Exercício 2\n",
    "Agora queremos criar uma função p tal que:\n",
    "\n",
    "$$ p(x) = a_0 +a_1x+a_2x^2 + \\cdots + a_nx^n = \\sum_{i=0}^n a_i x^i$$\n",
    "\n",
    "Essa função será chamada p, tal que `p(x,coeff)` computa o valor da equação acima. "
   ]
  },
  {
   "cell_type": "code",
   "execution_count": 35,
   "id": "1e512654",
   "metadata": {},
   "outputs": [],
   "source": [
    "def p(x,coeff):\n",
    "    return sum(a*x**i for i, a in enumerate (coeff))"
   ]
  },
  {
   "cell_type": "markdown",
   "id": "9a57d416",
   "metadata": {},
   "source": [
    "Ou:"
   ]
  },
  {
   "cell_type": "code",
   "execution_count": 36,
   "id": "d02668a7",
   "metadata": {},
   "outputs": [
    {
     "name": "stdout",
     "output_type": "stream",
     "text": [
      "Resultado: 30\n"
     ]
    }
   ],
   "source": [
    "def p(x, coeff):\n",
    "    result = 0\n",
    "    for i in range(len(coeff)):\n",
    "        result += coeff[i] * (x ** i)\n",
    "    return result\n",
    "\n",
    "# Exemplo de uso:\n",
    "coefficients = [2, 3, 1]  # Exemplo de coeficientes [a_0, a_1, a_2]\n",
    "x_value = 4  # Valor de x para o qual queremos calcular a equação\n",
    "result = p(x_value, coefficients)\n",
    "print(\"Resultado:\", result)\n"
   ]
  },
  {
   "cell_type": "markdown",
   "id": "170649c8",
   "metadata": {},
   "source": [
    "###### Exercício 3\n",
    "Escrever uma função que transforma todas letras em maiúscula:\n"
   ]
  },
  {
   "cell_type": "code",
   "execution_count": 38,
   "id": "4f77de20",
   "metadata": {},
   "outputs": [
    {
     "data": {
      "text/plain": [
       "'FOO'"
      ]
     },
     "execution_count": 38,
     "metadata": {},
     "output_type": "execute_result"
    }
   ],
   "source": [
    "\n",
    "'foo'.upper() "
   ]
  }
 ],
 "metadata": {
  "kernelspec": {
   "display_name": "Python 3 (ipykernel)",
   "language": "python",
   "name": "python3"
  },
  "language_info": {
   "codemirror_mode": {
    "name": "ipython",
    "version": 3
   },
   "file_extension": ".py",
   "mimetype": "text/x-python",
   "name": "python",
   "nbconvert_exporter": "python",
   "pygments_lexer": "ipython3",
   "version": "3.11.4"
  }
 },
 "nbformat": 4,
 "nbformat_minor": 5
}
