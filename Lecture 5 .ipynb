{
 "cells": [
  {
   "cell_type": "markdown",
   "id": "b3552d87",
   "metadata": {},
   "source": [
    "# OOP I - Objects and Names\n",
    "\n",
    "Object-oriented-programming (OOP) é um dos maiores paradigmas na programação. A forma tradicional funciona da seguinte forma:\n",
    "1. O programa tem um um estado correspondente aos valores das variáveis \n",
    "2. Funções são utilizadas para agir diante desses dados\n",
    "3. Os dados são passados de volta e para frente por meio da utilização de funções\n",
    "\n",
    "No Python, por sua vez, o OOP permite:\n",
    "\n",
    "1. Os dados e as funções são armazenados juntos na forma de objetos. No caso, as funções aqui são chamadas de métodos."
   ]
  },
  {
   "cell_type": "markdown",
   "id": "ff4a196d",
   "metadata": {},
   "source": [
    "## Tipos de objetos:\n",
    "\n",
    "#### String\n"
   ]
  },
  {
   "cell_type": "code",
   "execution_count": 1,
   "id": "20d0b549",
   "metadata": {},
   "outputs": [
    {
     "data": {
      "text/plain": [
       "str"
      ]
     },
     "execution_count": 1,
     "metadata": {},
     "output_type": "execute_result"
    }
   ],
   "source": [
    "s = 'Isso aqui é uma string'\n",
    "type(s)"
   ]
  },
  {
   "cell_type": "markdown",
   "id": "644c8ef3",
   "metadata": {},
   "source": [
    "####  Inteiros\n"
   ]
  },
  {
   "cell_type": "code",
   "execution_count": 2,
   "id": "7b69dd2c",
   "metadata": {},
   "outputs": [
    {
     "data": {
      "text/plain": [
       "int"
      ]
     },
     "execution_count": 2,
     "metadata": {},
     "output_type": "execute_result"
    }
   ],
   "source": [
    "x  = 42\n",
    "type(x)"
   ]
  },
  {
   "cell_type": "markdown",
   "id": "740de45a",
   "metadata": {},
   "source": [
    "A operação de duas strings gera um processo chamado de concatenação:\n"
   ]
  },
  {
   "cell_type": "code",
   "execution_count": 3,
   "id": "3af1cb24",
   "metadata": {},
   "outputs": [
    {
     "data": {
      "text/plain": [
       "'1234arroz'"
      ]
     },
     "execution_count": 3,
     "metadata": {},
     "output_type": "execute_result"
    }
   ],
   "source": [
    "'1234'+ 'arroz'"
   ]
  },
  {
   "cell_type": "markdown",
   "id": "0a9c9666",
   "metadata": {},
   "source": [
    "Caso seja apenas números, será uma operação básica:"
   ]
  },
  {
   "cell_type": "code",
   "execution_count": 4,
   "id": "d5649404",
   "metadata": {},
   "outputs": [
    {
     "data": {
      "text/plain": [
       "50"
      ]
     },
     "execution_count": 4,
     "metadata": {},
     "output_type": "execute_result"
    }
   ],
   "source": [
    "100-50"
   ]
  },
  {
   "cell_type": "markdown",
   "id": "27706f4f",
   "metadata": {},
   "source": [
    "Se colocarmos uma string, não será possível:"
   ]
  },
  {
   "cell_type": "code",
   "execution_count": 5,
   "id": "af5e0797",
   "metadata": {},
   "outputs": [
    {
     "ename": "TypeError",
     "evalue": "unsupported operand type(s) for -: 'int' and 'str'",
     "output_type": "error",
     "traceback": [
      "\u001b[1;31m---------------------------------------------------------------------------\u001b[0m",
      "\u001b[1;31mTypeError\u001b[0m                                 Traceback (most recent call last)",
      "Cell \u001b[1;32mIn[5], line 1\u001b[0m\n\u001b[1;32m----> 1\u001b[0m \u001b[38;5;241m100\u001b[39m\u001b[38;5;241m-\u001b[39m\u001b[38;5;124m'\u001b[39m\u001b[38;5;124m50\u001b[39m\u001b[38;5;124m'\u001b[39m\n",
      "\u001b[1;31mTypeError\u001b[0m: unsupported operand type(s) for -: 'int' and 'str'"
     ]
    }
   ],
   "source": [
    "100-'50'"
   ]
  },
  {
   "cell_type": "markdown",
   "id": "6f6b198b",
   "metadata": {},
   "source": [
    "Tivemos aqui um TypeError. Se quisermos evitar isso, podemos delimitar o que é o '50':\n"
   ]
  },
  {
   "cell_type": "code",
   "execution_count": 6,
   "id": "bb4637a2",
   "metadata": {},
   "outputs": [
    {
     "data": {
      "text/plain": [
       "50"
      ]
     },
     "execution_count": 6,
     "metadata": {},
     "output_type": "execute_result"
    }
   ],
   "source": [
    "100-int('50')"
   ]
  },
  {
   "cell_type": "markdown",
   "id": "4e91db93",
   "metadata": {},
   "source": [
    "#### Identificação\n",
    "Para cada objeto, temos que sua respectiva identidade. Por exemplo:"
   ]
  },
  {
   "cell_type": "code",
   "execution_count": 8,
   "id": "7eab7c83",
   "metadata": {},
   "outputs": [
    {
     "data": {
      "text/plain": [
       "1908788731056"
      ]
     },
     "execution_count": 8,
     "metadata": {},
     "output_type": "execute_result"
    }
   ],
   "source": [
    "x = 3.4\n",
    "id(x)"
   ]
  },
  {
   "cell_type": "markdown",
   "id": "518f4d09",
   "metadata": {},
   "source": [
    "Se fizermos o mesmo para y:"
   ]
  },
  {
   "cell_type": "code",
   "execution_count": 10,
   "id": "ba41b3f9",
   "metadata": {},
   "outputs": [
    {
     "data": {
      "text/plain": [
       "1908788731408"
      ]
     },
     "execution_count": 10,
     "metadata": {},
     "output_type": "execute_result"
    }
   ],
   "source": [
    "y = 3.4\n",
    "id(y)"
   ]
  },
  {
   "cell_type": "markdown",
   "id": "45843ad0",
   "metadata": {},
   "source": [
    "Note que não são os mesmos valores. Isso se deve ao fato deles não serem o mesmo objeto.\n",
    "\n",
    "### Conteúdo do Objeto: Dados e Atributos:\n"
   ]
  },
  {
   "cell_type": "markdown",
   "id": "3348c778",
   "metadata": {},
   "source": [
    "Se colocarmos `x=10`, então estamos crianod um objeto da classe `int` que contem o dado `10`. Vamos ter aqui então:"
   ]
  },
  {
   "cell_type": "code",
   "execution_count": 11,
   "id": "7f9af4ce",
   "metadata": {},
   "outputs": [
    {
     "data": {
      "text/plain": [
       "10"
      ]
     },
     "execution_count": 11,
     "metadata": {},
     "output_type": "execute_result"
    }
   ],
   "source": [
    "x=10\n",
    "x"
   ]
  },
  {
   "cell_type": "code",
   "execution_count": 12,
   "id": "34a20282",
   "metadata": {},
   "outputs": [
    {
     "data": {
      "text/plain": [
       "0"
      ]
     },
     "execution_count": 12,
     "metadata": {},
     "output_type": "execute_result"
    }
   ],
   "source": [
    "x.imag"
   ]
  },
  {
   "cell_type": "code",
   "execution_count": 14,
   "id": "48483ff2",
   "metadata": {},
   "outputs": [
    {
     "data": {
      "text/plain": [
       "int"
      ]
     },
     "execution_count": 14,
     "metadata": {},
     "output_type": "execute_result"
    }
   ],
   "source": [
    "x.__class__"
   ]
  },
  {
   "cell_type": "markdown",
   "id": "8719d41e",
   "metadata": {},
   "source": [
    "### Métodos\n",
    "São funções que são atreladas a determinados objetos. de outra forma, os métodos são atributos a objetos que podem ser \"chamados\" (ou seja, podem ser chamados como funções)."
   ]
  },
  {
   "cell_type": "code",
   "execution_count": 1,
   "id": "d44e6115",
   "metadata": {},
   "outputs": [
    {
     "data": {
      "text/plain": [
       "True"
      ]
     },
     "execution_count": 1,
     "metadata": {},
     "output_type": "execute_result"
    }
   ],
   "source": [
    "x = ['foo','bar']\n",
    "callable(x.append)"
   ]
  },
  {
   "cell_type": "code",
   "execution_count": 2,
   "id": "efab095b",
   "metadata": {},
   "outputs": [
    {
     "data": {
      "text/plain": [
       "False"
      ]
     },
     "execution_count": 2,
     "metadata": {},
     "output_type": "execute_result"
    }
   ],
   "source": [
    "callable(x.__doc__)"
   ]
  },
  {
   "cell_type": "markdown",
   "id": "eee15c9d",
   "metadata": {},
   "source": [
    "### Nome de variáveis:\n",
    "\n",
    "Ao colocarmos uma determinado `statement` no Python, por exemplo:\n",
    "\n"
   ]
  },
  {
   "cell_type": "code",
   "execution_count": 3,
   "id": "65a1382d",
   "metadata": {},
   "outputs": [],
   "source": [
    "x=10"
   ]
  },
  {
   "cell_type": "markdown",
   "id": "5817b9c8",
   "metadata": {},
   "source": [
    "Sabemos de algumas coisas:\n",
    "1. O valor de x é 10\n",
    "2. Algum valor é atribuído\n",
    "\n",
    "Mas o que é o `x`por si só? Em Python `x`é um *nome* "
   ]
  },
  {
   "cell_type": "markdown",
   "id": "dda1f6c0",
   "metadata": {},
   "source": [
    "Não hpa problema atribuir um ou mais nomes a um determinado objeto, independentemnte do objeto:"
   ]
  },
  {
   "cell_type": "code",
   "execution_count": 4,
   "id": "9d15d5f7",
   "metadata": {},
   "outputs": [
    {
     "data": {
      "text/plain": [
       "True"
      ]
     },
     "execution_count": 4,
     "metadata": {},
     "output_type": "execute_result"
    }
   ],
   "source": [
    "def f(string):   #criando uma função chamada f\n",
    "    print(string)\n",
    "\n",
    "g = f\n",
    "id(g)==id(f)"
   ]
  },
  {
   "cell_type": "code",
   "execution_count": 6,
   "id": "47b6bacd",
   "metadata": {},
   "outputs": [
    {
     "name": "stdout",
     "output_type": "stream",
     "text": [
      "test\n"
     ]
    }
   ],
   "source": [
    "g('test') #testando se a mesma função irá retornar os mesmos valores"
   ]
  },
  {
   "cell_type": "markdown",
   "id": "d4d9af0d",
   "metadata": {},
   "source": [
    "Se quisermos ver quais variáveis inicializamos nesse processo usamos `%whos`."
   ]
  },
  {
   "cell_type": "code",
   "execution_count": 7,
   "id": "4e2fec60",
   "metadata": {},
   "outputs": [
    {
     "name": "stdout",
     "output_type": "stream",
     "text": [
      "Variable   Type        Data/Info\n",
      "--------------------------------\n",
      "f          function    <function f at 0x00000248DD7DC180>\n",
      "g          function    <function f at 0x00000248DD7DC180>\n",
      "np         module      <module 'numpy' from 'C:\\<...>ges\\\\numpy\\\\__init__.py'>\n",
      "x          int         10\n"
     ]
    }
   ],
   "source": [
    "import numpy as np\n",
    "\n",
    "%whos"
   ]
  },
  {
   "cell_type": "markdown",
   "id": "a50cfb63",
   "metadata": {},
   "source": [
    "### Namespaces\n",
    "\n",
    "Como fizemos anteriormente:"
   ]
  },
  {
   "cell_type": "code",
   "execution_count": 8,
   "id": "318ab16b",
   "metadata": {},
   "outputs": [],
   "source": [
    "x=10"
   ]
  },
  {
   "cell_type": "markdown",
   "id": "df62f125",
   "metadata": {},
   "source": [
    "Estamos atrelando o nome x ao inteiro 10. Além disso, esse processo de atrelar um determinado nome a um determinado valor estamos implementando na forma de um dicionário. Esse dicionário é chamdo de *namespace*. Basicamente um *namespace* é um símbolo que mapeia os nomes a determinados objetos na memória. Por exemplo, a cada vez que importamos um determinado módulo, o Python está criando um *namespace* para aquele módulo. Vejamos:"
   ]
  },
  {
   "cell_type": "code",
   "execution_count": 9,
   "id": "fe7eadd0",
   "metadata": {},
   "outputs": [
    {
     "name": "stdout",
     "output_type": "stream",
     "text": [
      "Writing mathfoo.py\n"
     ]
    }
   ],
   "source": [
    "%%file mathfoo.py\n",
    "pi = 'foobar'"
   ]
  },
  {
   "cell_type": "markdown",
   "id": "92e951a7",
   "metadata": {},
   "source": [
    "A partir disso podemos inicializar o interpretador do Python e importar:\n"
   ]
  },
  {
   "cell_type": "code",
   "execution_count": 11,
   "id": "4572296b",
   "metadata": {},
   "outputs": [
    {
     "data": {
      "text/plain": [
       "dict_items([('__name__', 'mathfoo'), ('__doc__', None), ('__package__', ''), ('__loader__', <_frozen_importlib_external.SourceFileLoader object at 0x00000248DDB8C110>), ('__spec__', ModuleSpec(name='mathfoo', loader=<_frozen_importlib_external.SourceFileLoader object at 0x00000248DDB8C110>, origin='C:\\\\Users\\\\joaos\\\\mathfoo.py')), ('__file__', 'C:\\\\Users\\\\joaos\\\\mathfoo.py'), ('__cached__', 'C:\\\\Users\\\\joaos\\\\__pycache__\\\\mathfoo.cpython-311.pyc'), ('__builtins__', {'__name__': 'builtins', '__doc__': \"Built-in functions, types, exceptions, and other objects.\\n\\nThis module provides direct access to all 'built-in'\\nidentifiers of Python; for example, builtins.len is\\nthe full name for the built-in function len().\\n\\nThis module is not normally accessed explicitly by most\\napplications, but can be useful in modules that provide\\nobjects with the same name as a built-in value, but in\\nwhich the built-in of that name is also needed.\", '__package__': '', '__loader__': <class '_frozen_importlib.BuiltinImporter'>, '__spec__': ModuleSpec(name='builtins', loader=<class '_frozen_importlib.BuiltinImporter'>, origin='built-in'), '__build_class__': <built-in function __build_class__>, '__import__': <built-in function __import__>, 'abs': <built-in function abs>, 'all': <built-in function all>, 'any': <built-in function any>, 'ascii': <built-in function ascii>, 'bin': <built-in function bin>, 'breakpoint': <built-in function breakpoint>, 'callable': <built-in function callable>, 'chr': <built-in function chr>, 'compile': <built-in function compile>, 'delattr': <built-in function delattr>, 'dir': <built-in function dir>, 'divmod': <built-in function divmod>, 'eval': <built-in function eval>, 'exec': <built-in function exec>, 'format': <built-in function format>, 'getattr': <built-in function getattr>, 'globals': <built-in function globals>, 'hasattr': <built-in function hasattr>, 'hash': <built-in function hash>, 'hex': <built-in function hex>, 'id': <built-in function id>, 'input': <bound method Kernel.raw_input of <ipykernel.ipkernel.IPythonKernel object at 0x00000248DD796110>>, 'isinstance': <built-in function isinstance>, 'issubclass': <built-in function issubclass>, 'iter': <built-in function iter>, 'aiter': <built-in function aiter>, 'len': <built-in function len>, 'locals': <built-in function locals>, 'max': <built-in function max>, 'min': <built-in function min>, 'next': <built-in function next>, 'anext': <built-in function anext>, 'oct': <built-in function oct>, 'ord': <built-in function ord>, 'pow': <built-in function pow>, 'print': <built-in function print>, 'repr': <built-in function repr>, 'round': <built-in function round>, 'setattr': <built-in function setattr>, 'sorted': <built-in function sorted>, 'sum': <built-in function sum>, 'vars': <built-in function vars>, 'None': None, 'Ellipsis': Ellipsis, 'NotImplemented': NotImplemented, 'False': False, 'True': True, 'bool': <class 'bool'>, 'memoryview': <class 'memoryview'>, 'bytearray': <class 'bytearray'>, 'bytes': <class 'bytes'>, 'classmethod': <class 'classmethod'>, 'complex': <class 'complex'>, 'dict': <class 'dict'>, 'enumerate': <class 'enumerate'>, 'filter': <class 'filter'>, 'float': <class 'float'>, 'frozenset': <class 'frozenset'>, 'property': <class 'property'>, 'int': <class 'int'>, 'list': <class 'list'>, 'map': <class 'map'>, 'object': <class 'object'>, 'range': <class 'range'>, 'reversed': <class 'reversed'>, 'set': <class 'set'>, 'slice': <class 'slice'>, 'staticmethod': <class 'staticmethod'>, 'str': <class 'str'>, 'super': <class 'super'>, 'tuple': <class 'tuple'>, 'type': <class 'type'>, 'zip': <class 'zip'>, '__debug__': True, 'BaseException': <class 'BaseException'>, 'BaseExceptionGroup': <class 'BaseExceptionGroup'>, 'Exception': <class 'Exception'>, 'GeneratorExit': <class 'GeneratorExit'>, 'KeyboardInterrupt': <class 'KeyboardInterrupt'>, 'SystemExit': <class 'SystemExit'>, 'ArithmeticError': <class 'ArithmeticError'>, 'AssertionError': <class 'AssertionError'>, 'AttributeError': <class 'AttributeError'>, 'BufferError': <class 'BufferError'>, 'EOFError': <class 'EOFError'>, 'ImportError': <class 'ImportError'>, 'LookupError': <class 'LookupError'>, 'MemoryError': <class 'MemoryError'>, 'NameError': <class 'NameError'>, 'OSError': <class 'OSError'>, 'ReferenceError': <class 'ReferenceError'>, 'RuntimeError': <class 'RuntimeError'>, 'StopAsyncIteration': <class 'StopAsyncIteration'>, 'StopIteration': <class 'StopIteration'>, 'SyntaxError': <class 'SyntaxError'>, 'SystemError': <class 'SystemError'>, 'TypeError': <class 'TypeError'>, 'ValueError': <class 'ValueError'>, 'Warning': <class 'Warning'>, 'FloatingPointError': <class 'FloatingPointError'>, 'OverflowError': <class 'OverflowError'>, 'ZeroDivisionError': <class 'ZeroDivisionError'>, 'BytesWarning': <class 'BytesWarning'>, 'DeprecationWarning': <class 'DeprecationWarning'>, 'EncodingWarning': <class 'EncodingWarning'>, 'FutureWarning': <class 'FutureWarning'>, 'ImportWarning': <class 'ImportWarning'>, 'PendingDeprecationWarning': <class 'PendingDeprecationWarning'>, 'ResourceWarning': <class 'ResourceWarning'>, 'RuntimeWarning': <class 'RuntimeWarning'>, 'SyntaxWarning': <class 'SyntaxWarning'>, 'UnicodeWarning': <class 'UnicodeWarning'>, 'UserWarning': <class 'UserWarning'>, 'BlockingIOError': <class 'BlockingIOError'>, 'ChildProcessError': <class 'ChildProcessError'>, 'ConnectionError': <class 'ConnectionError'>, 'FileExistsError': <class 'FileExistsError'>, 'FileNotFoundError': <class 'FileNotFoundError'>, 'InterruptedError': <class 'InterruptedError'>, 'IsADirectoryError': <class 'IsADirectoryError'>, 'NotADirectoryError': <class 'NotADirectoryError'>, 'PermissionError': <class 'PermissionError'>, 'ProcessLookupError': <class 'ProcessLookupError'>, 'TimeoutError': <class 'TimeoutError'>, 'IndentationError': <class 'IndentationError'>, 'IndexError': <class 'IndexError'>, 'KeyError': <class 'KeyError'>, 'ModuleNotFoundError': <class 'ModuleNotFoundError'>, 'NotImplementedError': <class 'NotImplementedError'>, 'RecursionError': <class 'RecursionError'>, 'UnboundLocalError': <class 'UnboundLocalError'>, 'UnicodeError': <class 'UnicodeError'>, 'BrokenPipeError': <class 'BrokenPipeError'>, 'ConnectionAbortedError': <class 'ConnectionAbortedError'>, 'ConnectionRefusedError': <class 'ConnectionRefusedError'>, 'ConnectionResetError': <class 'ConnectionResetError'>, 'TabError': <class 'TabError'>, 'UnicodeDecodeError': <class 'UnicodeDecodeError'>, 'UnicodeEncodeError': <class 'UnicodeEncodeError'>, 'UnicodeTranslateError': <class 'UnicodeTranslateError'>, 'ExceptionGroup': <class 'ExceptionGroup'>, 'EnvironmentError': <class 'OSError'>, 'IOError': <class 'OSError'>, 'WindowsError': <class 'OSError'>, 'open': <built-in function open>, 'copyright': Copyright (c) 2001-2023 Python Software Foundation.\n",
       "All Rights Reserved.\n",
       "\n",
       "Copyright (c) 2000 BeOpen.com.\n",
       "All Rights Reserved.\n",
       "\n",
       "Copyright (c) 1995-2001 Corporation for National Research Initiatives.\n",
       "All Rights Reserved.\n",
       "\n",
       "Copyright (c) 1991-1995 Stichting Mathematisch Centrum, Amsterdam.\n",
       "All Rights Reserved., 'credits':     Thanks to CWI, CNRI, BeOpen.com, Zope Corporation and a cast of thousands\n",
       "    for supporting Python development.  See www.python.org for more information., 'license': See https://www.python.org/psf/license/, 'help': Type help() for interactive help, or help(object) for help about object., 'execfile': <function execfile at 0x00000248DC3AA3E0>, 'runfile': <function runfile at 0x00000248DC4A3240>, '__IPYTHON__': True, 'display': <function display at 0x00000248DACC96C0>, 'get_ipython': <bound method InteractiveShell.get_ipython of <ipykernel.zmqshell.ZMQInteractiveShell object at 0x00000248DD797750>>}), ('pi', 'foobar')])"
      ]
     },
     "execution_count": 11,
     "metadata": {},
     "output_type": "execute_result"
    }
   ],
   "source": [
    "import mathfoo\n",
    "\n",
    "mathfoo.__dict__.items()"
   ]
  },
  {
   "cell_type": "markdown",
   "id": "3637e056",
   "metadata": {},
   "source": [
    "Utilizando outro pacote:"
   ]
  },
  {
   "cell_type": "code",
   "execution_count": 13,
   "id": "f611d769",
   "metadata": {},
   "outputs": [
    {
     "data": {
      "text/plain": [
       "dict_items([('__name__', 'math'), ('__doc__', 'This module provides access to the mathematical functions\\ndefined by the C standard.'), ('__package__', ''), ('__loader__', <class '_frozen_importlib.BuiltinImporter'>), ('__spec__', ModuleSpec(name='math', loader=<class '_frozen_importlib.BuiltinImporter'>, origin='built-in')), ('acos', <built-in function acos>), ('acosh', <built-in function acosh>), ('asin', <built-in function asin>), ('asinh', <built-in function asinh>), ('atan', <built-in function atan>), ('atan2', <built-in function atan2>), ('atanh', <built-in function atanh>), ('cbrt', <built-in function cbrt>), ('ceil', <built-in function ceil>), ('copysign', <built-in function copysign>), ('cos', <built-in function cos>), ('cosh', <built-in function cosh>), ('degrees', <built-in function degrees>), ('dist', <built-in function dist>), ('erf', <built-in function erf>), ('erfc', <built-in function erfc>), ('exp', <built-in function exp>), ('exp2', <built-in function exp2>), ('expm1', <built-in function expm1>), ('fabs', <built-in function fabs>), ('factorial', <built-in function factorial>), ('floor', <built-in function floor>), ('fmod', <built-in function fmod>), ('frexp', <built-in function frexp>), ('fsum', <built-in function fsum>), ('gamma', <built-in function gamma>), ('gcd', <built-in function gcd>), ('hypot', <built-in function hypot>), ('isclose', <built-in function isclose>), ('isfinite', <built-in function isfinite>), ('isinf', <built-in function isinf>), ('isnan', <built-in function isnan>), ('isqrt', <built-in function isqrt>), ('lcm', <built-in function lcm>), ('ldexp', <built-in function ldexp>), ('lgamma', <built-in function lgamma>), ('log', <built-in function log>), ('log1p', <built-in function log1p>), ('log10', <built-in function log10>), ('log2', <built-in function log2>), ('modf', <built-in function modf>), ('pow', <built-in function pow>), ('radians', <built-in function radians>), ('remainder', <built-in function remainder>), ('sin', <built-in function sin>), ('sinh', <built-in function sinh>), ('sqrt', <built-in function sqrt>), ('tan', <built-in function tan>), ('tanh', <built-in function tanh>), ('trunc', <built-in function trunc>), ('prod', <built-in function prod>), ('perm', <built-in function perm>), ('comb', <built-in function comb>), ('nextafter', <built-in function nextafter>), ('ulp', <built-in function ulp>), ('pi', 3.141592653589793), ('e', 2.718281828459045), ('tau', 6.283185307179586), ('inf', inf), ('nan', nan)])"
      ]
     },
     "execution_count": 13,
     "metadata": {},
     "output_type": "execute_result"
    }
   ],
   "source": [
    "import math\n",
    "math.__dict__.items()"
   ]
  },
  {
   "cell_type": "code",
   "execution_count": 14,
   "id": "b5fa8603",
   "metadata": {},
   "outputs": [
    {
     "data": {
      "text/plain": [
       "3.141592653589793"
      ]
     },
     "execution_count": 14,
     "metadata": {},
     "output_type": "execute_result"
    }
   ],
   "source": [
    "math.pi"
   ]
  },
  {
   "cell_type": "code",
   "execution_count": 16,
   "id": "be7b875b",
   "metadata": {},
   "outputs": [
    {
     "data": {
      "text/plain": [
       "True"
      ]
     },
     "execution_count": 16,
     "metadata": {},
     "output_type": "execute_result"
    }
   ],
   "source": [
    "math.__dict__['pi'] == math.pi "
   ]
  },
  {
   "cell_type": "markdown",
   "id": "2a6a162f",
   "metadata": {},
   "source": [
    "Se quisermos ver somente os pirmeiros nomes, podemos:"
   ]
  },
  {
   "cell_type": "code",
   "execution_count": 17,
   "id": "a5db03be",
   "metadata": {},
   "outputs": [
    {
     "data": {
      "text/plain": [
       "['__doc__',\n",
       " '__loader__',\n",
       " '__name__',\n",
       " '__package__',\n",
       " '__spec__',\n",
       " 'acos',\n",
       " 'acosh',\n",
       " 'asin',\n",
       " 'asinh',\n",
       " 'atan']"
      ]
     },
     "execution_count": 17,
     "metadata": {},
     "output_type": "execute_result"
    }
   ],
   "source": [
    "dir(math)[0:10]"
   ]
  },
  {
   "cell_type": "markdown",
   "id": "0ec109e6",
   "metadata": {},
   "source": [
    "#### Interactive Sessions\n",
    "\n",
    "No Python, todo o código é exectuado pelo inteerpretador e é rodado em algum módulo. E se digitarmos um comando no *prompt*? \n"
   ]
  },
  {
   "cell_type": "code",
   "execution_count": 18,
   "id": "47517e13",
   "metadata": {},
   "outputs": [
    {
     "name": "stdout",
     "output_type": "stream",
     "text": [
      "__main__\n"
     ]
    }
   ],
   "source": [
    "print(__name__)"
   ]
  },
  {
   "cell_type": "markdown",
   "id": "399e8c9d",
   "metadata": {},
   "source": [
    "\n",
    "O código print(__name__) é uma instrução Python que imprime o valor da variável especial __name__ no console. O resultado sendo \"main\" ocorre quando este código é executado em um programa Python como um script autônomo (ou seja, não é importado como um módulo em outro script).\n",
    "\n",
    "A variável __name__ é uma variável especial em Python que é automaticamente definida para diferentes valores, dependendo de como o código está sendo executado:\n",
    "\n",
    "Quando um script Python é executado como um programa principal (ou seja, diretamente do console ou de um arquivo executável), o valor de __name__ é definido como \"main\". Isso indica que o script está sendo executado como o programa principal.\n",
    "\n",
    "Quando um script Python é importado como um módulo em outro script, o valor de __name__ não é definido como \"main\". Em vez disso, é definido como o nome do módulo (ou seja, o nome do arquivo sem a extensão \".py\")"
   ]
  },
  {
   "cell_type": "markdown",
   "id": "33aedd98",
   "metadata": {},
   "source": [
    "#### Global Namespace\n",
    "\n",
    "O global namespace é o namespace do módulo que tá sendo executado no momento. Como estamos trabalhando no módulo `__main__` e por isso ele é o global namespace. Se por exemplo, importamos um outro módulo e começarmos a executar comandos, iremos mudar o global namespace. Após isso ocorrer, voltamos para o `__main__` como global namespace.\n",
    "\n",
    "#### Local Namespaces\n",
    "\n",
    "Quando usamos uma função, o interpretador irá criar um *local namespace* para aquela determinada função e irá registrar as variáveis naquele *namespace*. Com isso, as variáveis que estão nesse *local namespace* serão as *local variables*.\n",
    "\n",
    "Se por exemplo, utilziarmos o argumento `locals()`, conseguimos ver aonde que o conteúdo está sendo armazenado, no caso do *local namespace*. Por exemplo:\n"
   ]
  },
  {
   "cell_type": "code",
   "execution_count": 3,
   "id": "6f8c200e",
   "metadata": {},
   "outputs": [],
   "source": [
    "def f(x):\n",
    "    a = 2\n",
    "    print (locals())\n",
    "    return a*x"
   ]
  },
  {
   "cell_type": "code",
   "execution_count": 4,
   "id": "8f4c0bdc",
   "metadata": {},
   "outputs": [
    {
     "name": "stdout",
     "output_type": "stream",
     "text": [
      "{'x': 1, 'a': 2}\n"
     ]
    },
    {
     "data": {
      "text/plain": [
       "2"
      ]
     },
     "execution_count": 4,
     "metadata": {},
     "output_type": "execute_result"
    }
   ],
   "source": [
    "f(1)"
   ]
  },
  {
   "cell_type": "markdown",
   "id": "69221745",
   "metadata": {},
   "source": [
    "Conseguirmos ver o *local namespace* antes do Python der o Output final. No caso de funções que já estão inclusas no próprio Python, como `max(),dir(), str(), list(), len(), range(), type()`, etc, elas estão armazenadas em um módulo chamado `__builtin__`, com o seu próprio namespace chamado `__builtins__`. "
   ]
  },
  {
   "cell_type": "code",
   "execution_count": 5,
   "id": "76cb5d9b",
   "metadata": {},
   "outputs": [
    {
     "data": {
      "text/plain": [
       "['In',\n",
       " 'Out',\n",
       " '_',\n",
       " '_2',\n",
       " '_4',\n",
       " '__',\n",
       " '___',\n",
       " '__builtin__',\n",
       " '__builtins__',\n",
       " '__doc__']"
      ]
     },
     "execution_count": 5,
     "metadata": {},
     "output_type": "execute_result"
    }
   ],
   "source": [
    "dir()[0:10] # Estamos pegando os 10 primeiros nomes em `__main__`"
   ]
  },
  {
   "cell_type": "code",
   "execution_count": 6,
   "id": "3bae17a2",
   "metadata": {},
   "outputs": [
    {
     "data": {
      "text/plain": [
       "['ArithmeticError',\n",
       " 'AssertionError',\n",
       " 'AttributeError',\n",
       " 'BaseException',\n",
       " 'BaseExceptionGroup',\n",
       " 'BlockingIOError',\n",
       " 'BrokenPipeError',\n",
       " 'BufferError',\n",
       " 'BytesWarning',\n",
       " 'ChildProcessError']"
      ]
     },
     "execution_count": 6,
     "metadata": {},
     "output_type": "execute_result"
    }
   ],
   "source": [
    "dir(__builtins__)[0:10] #mostrando os 10 primeiros nomes no namespace;"
   ]
  },
  {
   "cell_type": "code",
   "execution_count": 16,
   "id": "62549a06",
   "metadata": {},
   "outputs": [],
   "source": [
    "def f(x):\n",
    "    a=2\n",
    "    b=3\n",
    "    return -a*x**2 + b\n",
    "\n",
    "x =[f(2),f(3),f(10)]\n",
    "max(x)"
   ]
  },
  {
   "cell_type": "code",
   "execution_count": 25,
   "id": "f13e98f8",
   "metadata": {},
   "outputs": [
    {
     "data": {
      "text/plain": [
       "-5"
      ]
     },
     "execution_count": 25,
     "metadata": {},
     "output_type": "execute_result"
    }
   ],
   "source": []
  },
  {
   "cell_type": "code",
   "execution_count": null,
   "id": "a78cd558",
   "metadata": {},
   "outputs": [],
   "source": []
  }
 ],
 "metadata": {
  "kernelspec": {
   "display_name": "Python 3 (ipykernel)",
   "language": "python",
   "name": "python3"
  },
  "language_info": {
   "codemirror_mode": {
    "name": "ipython",
    "version": 3
   },
   "file_extension": ".py",
   "mimetype": "text/x-python",
   "name": "python",
   "nbconvert_exporter": "python",
   "pygments_lexer": "ipython3",
   "version": "3.11.4"
  }
 },
 "nbformat": 4,
 "nbformat_minor": 5
}
